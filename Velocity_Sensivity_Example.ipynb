{
 "cells": [
  {
   "cell_type": "code",
   "execution_count": 1,
   "id": "8b557fc0",
   "metadata": {},
   "outputs": [],
   "source": [
    "import importlib\n",
    "import numpy as np\n",
    "import matplotlib.pyplot as plt\n",
    "import Diffrapy as df"
   ]
  },
  {
   "cell_type": "code",
   "execution_count": 2,
   "id": "737c167b",
   "metadata": {},
   "outputs": [],
   "source": [
    "nx=150 #meters\n",
    "nz=100 #meters\n",
    "ntr=150 #number of traces in acquisition\n",
    "dx=1.0 #meter\n",
    "dz=1.0 #meter\n",
    "c=250 #constant velocity [m/s]"
   ]
  },
  {
   "cell_type": "code",
   "execution_count": null,
   "id": "7f75ea98",
   "metadata": {},
   "outputs": [],
   "source": [
    "dsx = 15 #Shots spacing\n",
    "nsx = nx\n",
    "ngx = nx\n",
    "path = \"Data/CSG_diffbar/dummy_teste\"\n",
    "\n",
    "files = []\n",
    "\n",
    "for i in range(0,nsx,dsx):\n",
    "    filename = 'Data/CSG_diffbar/dummy_teste_{}'.format(i)\n",
    "    with open(filename, 'rb') as file:\n",
    "        (gather) = np.load(file)\n",
    "        files.append(gather)"
   ]
  },
  {
   "cell_type": "code",
   "execution_count": null,
   "id": "01ac0980",
   "metadata": {},
   "outputs": [],
   "source": [
    "with open(\"Data/CSG_diffbar/Homogeneous_model_pm\", \"wb\") as f: \n",
    "    np.save(f, pm)\n",
    "    \n",
    "with open(\"Data/CSG_diffbar/Homogeneous_model_semblance\", \"wb\") as f: \n",
    "    np.save(f, sm)\n",
    "\n",
    "with open(\"Data/CSG_diffbar/Homogeneous_model_pm\", \"rb\") as f:\n",
    "    pm = np.load(f)\n",
    "\n",
    "with open(\"Data/CSG_diffbar/Homogeneous_model_semblance\", \"rb\") as f:\n",
    "    sm = np.load(f)"
   ]
  },
  {
   "cell_type": "code",
   "execution_count": null,
   "id": "e7f308ce",
   "metadata": {},
   "outputs": [],
   "source": [
    "m_theta = np.arctan(pm)\n",
    "X = np.sin(m_theta)\n",
    "Y = np.cos(m_theta)"
   ]
  },
  {
   "cell_type": "code",
   "execution_count": null,
   "id": "34bbdb1f",
   "metadata": {},
   "outputs": [],
   "source": [
    "dwin=dt\n",
    "win=5*dt #Window\n",
    "app_ref=20 #Aperture for conventional migration\n",
    "app_dif=80 #Aperture for diffraction migration\n",
    "\n",
    "gather1 = files[5] \n",
    "isx = 75"
   ]
  },
  {
   "cell_type": "code",
   "execution_count": null,
   "id": "542f85cd",
   "metadata": {},
   "outputs": [],
   "source": [
    "with open('Data/TTh_100x150_250mps.npy', 'rb') as f:\n",
    "    TTh = np.load(f)\n",
    "\n",
    "dt=0.004\n",
    "timer=np.round(TTh/dt)+1\n",
    "    \n",
    "with open(\"Data/CSG_diffbar/raiosHomo_toohigh.npy\", 'rb') as f:\n",
    "    TTh_toohigh = np.load(f)\n",
    "    \n",
    "with open(\"Data/CSG_diffbar/raiosHomo_toolow.npy\", 'rb') as f:\n",
    "    TTh_toolow = np.load(f)\n",
    "\n",
    "timer=np.round(TTh/dt)+1\n",
    "timer_toohigh=np.round(TTh_toohigh/dt)+1\n",
    "timer_toolow=np.round(TTh_toolow/dt)+1"
   ]
  },
  {
   "cell_type": "code",
   "execution_count": null,
   "id": "6a1f0373",
   "metadata": {},
   "outputs": [],
   "source": [
    "refl,diff = df.migration_teste(gather1,isx,dx,dz,dt,win,dwin,app_ref,app_dif,TTh,X,Y,sm,SW)\n",
    "refl_toohigh,diff_toohigh = df.migration_teste(gather1,isx,dx,dz,dt,win,dwin,app_ref,app_dif,TTh_toohigh,X,Y,sm,SW)\n",
    "refl_toolow,diff_toolow = df.migration_teste(gather1,isx,dx,dz,dt,win,dwin,app_ref,app_dif,TTh_toolow,X,Y,sm,SW)\n",
    "\n",
    "fig, (ax1, ax2, ax3) = plt.subplots(1,3,figsize=(13,4))\n",
    "\n",
    "ax1.imshow(diff, aspect=\"auto\",extent=[0,dx*nx,dz*nz,0])\n",
    "ax1.set_title(\"Diff Vel Correta\")\n",
    "ax1.set_xlabel(\"Distancia (m)\")\n",
    "ax1.set_ylabel(\"Profundidade (m)\")\n",
    "\n",
    "ax2.imshow(diff_toohigh, aspect=\"auto\",extent=[0,dx*nx,dz*nz,0])\n",
    "ax2.set_title(\"Diff Vel 10% a mais\")\n",
    "ax2.set_xlabel(\"Distancia (m)\")\n",
    "ax2.set_ylabel(\"Profundidade (m)\")\n",
    "\n",
    "ax3.imshow(diff_toolow, aspect=\"auto\",extent=[0,dx*nx,dz*nz,0])\n",
    "ax3.set_title(\"Diff Vel 10% a menos\")\n",
    "ax3.set_xlabel(\"Distancia (m)\")\n",
    "ax3.set_ylabel(\"Profundidade (m)\")\n",
    "\n",
    "plt.tight_layout()\n",
    "plt.show()"
   ]
  },
  {
   "cell_type": "code",
   "execution_count": null,
   "id": "8e933a12",
   "metadata": {},
   "outputs": [],
   "source": [
    "refl,diff = df.migration_teste(files,isx,dx,dz,dt,win,dwin,app_ref,app_dif,TTh,X,Y,sm,SW)\n",
    "refl_toohigh,diff_toohigh = df.migration_teste(files,isx,dx,dz,dt,win,dwin,app_ref,app_dif,TTh_toohigh,X,Y,sm,SW)\n",
    "refl_toolow,diff_toolow = df.migration_teste(files,isx,dx,dz,dt,win,dwin,app_ref,app_dif,TTh_toolow,X,Y,sm,SW)\n",
    "\n",
    "fig, (ax1, ax2, ax3) = plt.subplots(1,3,figsize=(13,4))\n",
    "\n",
    "ax1.imshow(diff, aspect=\"auto\",extent=[0,dx*nx,dz*nz,0])\n",
    "ax1.set_title(\"Diff Vel Correta\")\n",
    "ax1.set_xlabel(\"Distancia (m)\")\n",
    "ax1.set_ylabel(\"Profundidade (m)\")\n",
    "\n",
    "ax2.imshow(diff_toohigh, aspect=\"auto\",extent=[0,dx*nx,dz*nz,0])\n",
    "ax2.set_title(\"Diff Vel 10% a mais\")\n",
    "ax2.set_xlabel(\"Distancia (m)\")\n",
    "ax2.set_ylabel(\"Profundidade (m)\")\n",
    "\n",
    "ax3.imshow(diff_toolow, aspect=\"auto\",extent=[0,dx*nx,dz*nz,0])\n",
    "ax3.set_title(\"Diff Vel 10% a menos\")\n",
    "ax3.set_xlabel(\"Distancia (m)\")\n",
    "ax3.set_ylabel(\"Profundidade (m)\")\n",
    "\n",
    "plt.tight_layout()\n",
    "plt.show()"
   ]
  },
  {
   "cell_type": "code",
   "execution_count": null,
   "id": "7a0389d9",
   "metadata": {},
   "outputs": [],
   "source": [
    "fig, (ax1, ax2, ax3) = plt.subplots(1,3,figsize=(13,4))\n",
    "\n",
    "ax1.imshow(diff, aspect=\"auto\",extent=[0,dx*nx,dz*nz,0],cmap=cm,interpolation=it)\n",
    "ax1.set_title(\"Diff Vel Correta\")\n",
    "ax1.set_xlabel(\"Distancia (m)\")\n",
    "ax1.set_ylabel(\"Profundidade (m)\")\n",
    "\n",
    "ax2.imshow(diff_toohigh, aspect=\"auto\",extent=[0,dx*nx,dz*nz,0],cmap=cm,interpolation=it)\n",
    "ax2.set_title(\"Diff Vel 10% a mais\")\n",
    "ax2.set_xlabel(\"Distancia (m)\")\n",
    "ax2.set_ylabel(\"Profundidade (m)\")\n",
    "\n",
    "ax3.imshow(diff_toolow, aspect=\"auto\",extent=[0,dx*nx,dz*nz,0],cmap=cm,interpolation=it)\n",
    "ax3.set_title(\"Diff Vel 10% a menos\")\n",
    "ax3.set_xlabel(\"Distancia (m)\")\n",
    "ax3.set_ylabel(\"Profundidade (m)\")\n",
    "\n",
    "plt.tight_layout()\n",
    "plt.show()"
   ]
  },
  {
   "cell_type": "code",
   "execution_count": null,
   "id": "0ddca1c5",
   "metadata": {},
   "outputs": [],
   "source": []
  },
  {
   "cell_type": "code",
   "execution_count": null,
   "id": "3d4c90ef",
   "metadata": {},
   "outputs": [],
   "source": []
  }
 ],
 "metadata": {
  "kernelspec": {
   "display_name": "Python 3",
   "language": "python",
   "name": "python3"
  },
  "language_info": {
   "codemirror_mode": {
    "name": "ipython",
    "version": 3
   },
   "file_extension": ".py",
   "mimetype": "text/x-python",
   "name": "python",
   "nbconvert_exporter": "python",
   "pygments_lexer": "ipython3",
   "version": "3.8.8"
  }
 },
 "nbformat": 4,
 "nbformat_minor": 5
}
